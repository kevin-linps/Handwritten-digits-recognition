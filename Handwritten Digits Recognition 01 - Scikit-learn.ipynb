{
 "cells": [
  {
   "cell_type": "markdown",
   "metadata": {},
   "source": [
    "# Handwritten Digits Recognition 01 - Scikit-learn\n",
    "\n",
    "In this project, we are interested in building models that can classify images of handwritten digits. The goal is to create models that can determine which digit is written in the input image. Although the standard practice is to train with MNIST database, I found scikit-learn having difficulties handling large databases like MNIST. In this notebook, we will train three models — support vector machine, k nearest-neightbout and random forest — using the scikit-learn digits database instead."
   ]
  },
  {
   "cell_type": "markdown",
   "metadata": {},
   "source": [
    "## Loading scikit-learn digits database\n",
    "\n",
    "First, let's load the scikit-learn digits data set and separate training and testing data. 80% of the data are used to train the models, while the rest are using in testing. Also, each image is stored in an array with 64 elements, which means that the images are 8x8 pixels."
   ]
  },
  {
   "cell_type": "code",
   "execution_count": 8,
   "metadata": {},
   "outputs": [
    {
     "output_type": "stream",
     "name": "stdout",
     "text": "Size of data set: 1797\n--------------------------------------------------\nTraining set dimension: (1437, 64) (1437,)\nTesting set dimension: (360, 64) (360,)\n"
    }
   ],
   "source": [
    "from sklearn import datasets\n",
    "from sklearn.model_selection import train_test_split\n",
    "\n",
    "digits = datasets.load_digits()\n",
    "print(\"Size of data set:\", len(digits.data))\n",
    "print(\"-\" * 50)\n",
    "\n",
    "x_train, x_test, y_train, y_test = train_test_split(digits.data, digits.target, test_size = 0.2)\n",
    "print(\"Training set dimension:\", x_train.shape, y_train.shape)\n",
    "print(\"Testing set dimension:\", x_test.shape, y_test.shape)"
   ]
  },
  {
   "cell_type": "markdown",
   "metadata": {},
   "source": [
    "We can visualize the images. The figure below contains the first eight images in the data set and their labels. The quality is low, but the digits are somewhat recognizable."
   ]
  },
  {
   "cell_type": "code",
   "execution_count": 9,
   "metadata": {},
   "outputs": [
    {
     "output_type": "display_data",
     "data": {
      "text/plain": "<Figure size 432x288 with 8 Axes>",
      "image/png": "[encoded data removed]"
     },
     "metadata": {
      "needs_background": "light"
     }
    }
   ],
   "source": [
    "import matplotlib.pyplot as plt\n",
    "\n",
    "fig, axes = plt.subplots(2, 4)\n",
    "for n, ax in zip(range(8), axes.flatten()):\n",
    "    image = x_train[n].reshape(8, 8)\n",
    "    ax.imshow(image, cmap=plt.cm.gray_r, interpolation='nearest')\n",
    "    ax.set_title(\"Number %d\" % y_train[n])\n",
    "    ax.set_axis_off()\n",
    "\n",
    "fig.suptitle(\"Images of Digits in MNIST Database\")\n",
    "plt.show()"
   ]
  },
  {
   "cell_type": "markdown",
   "metadata": {},
   "source": [
    "## Building machine learning models\n",
    "\n",
    "Here we train three models with the training set.\n",
    "\n",
    "1. Support vector machine (SVM)\n",
    "2. k nearest-neighbour (kNN)\n",
    "3. Random forest (RF)\n",
    "\n",
    "The parameters were adjusted to avoid overfitting.\n"
   ]
  },
  {
   "cell_type": "code",
   "execution_count": 10,
   "metadata": {},
   "outputs": [],
   "source": [
    "from sklearn.svm import SVC\n",
    "from sklearn.neighbors import KNeighborsClassifier\n",
    "from sklearn.ensemble import RandomForestClassifier\n",
    "\n",
    "# Dictionary to store training and testing results\n",
    "labels = {\"Support vector machine\": [0, 0], \n",
    "          \"k nearest-neighbour\": [0, 0], \n",
    "          \"Random forest\": [0, 0]}"
   ]
  },
  {
   "cell_type": "code",
   "execution_count": 11,
   "metadata": {},
   "outputs": [],
   "source": [
    "# Set up the models with their specifications\n",
    "\n",
    "models = [SVC(kernel = 'poly', gamma = 'scale', max_iter = 10000), \n",
    "          KNeighborsClassifier(algorithm = 'ball_tree', n_neighbors = 5), \n",
    "          RandomForestClassifier(max_depth = 8, max_features = 0.3, n_estimators = 100)]"
   ]
  },
  {
   "cell_type": "code",
   "execution_count": 12,
   "metadata": {},
   "outputs": [],
   "source": [
    "# Train and evaluate the success rate of each model\n",
    "\n",
    "import numpy as np\n",
    "\n",
    "def success_rate(x, y, model):\n",
    "    p = model.predict(x)\n",
    "    return round(sum(np.equal(p, y))/len(y), 5) * 100\n",
    "\n",
    "for data, model in zip(labels, models):\n",
    "    \n",
    "    # Train the models\n",
    "    model.fit(x_train, y_train)\n",
    "    \n",
    "    # Evaluate the success rates\n",
    "    labels[data][0] = success_rate(x_train, y_train, model)\n",
    "    labels[data][1] = success_rate(x_test, y_test, model)"
   ]
  },
  {
   "cell_type": "markdown",
   "metadata": {},
   "source": [
    "We can organize the training and testing results in a table. SVM is slightly overfitted, but RF is much worse. In terms of accuracy, SVM stands out with over 99% accuracy on both training and testing set, making it the best model for digits recognition."
   ]
  },
  {
   "cell_type": "code",
   "execution_count": 13,
   "metadata": {},
   "outputs": [
    {
     "output_type": "execute_result",
     "data": {
      "text/plain": "  Success rate  Support vector machine  k nearest-neighbour  Random forest\n0     Training                  99.861               99.235         99.861\n1      Testing                  99.167               98.889         96.389",
      "text/html": "<div>\n<style scoped>\n    .dataframe tbody tr th:only-of-type {\n        vertical-align: middle;\n    }\n\n    .dataframe tbody tr th {\n        vertical-align: top;\n    }\n\n    .dataframe thead th {\n        text-align: right;\n    }\n</style>\n<table border=\"1\" class=\"dataframe\">\n  <thead>\n    <tr style=\"text-align: right;\">\n      <th></th>\n      <th>Success rate</th>\n      <th>Support vector machine</th>\n      <th>k nearest-neighbour</th>\n      <th>Random forest</th>\n    </tr>\n  </thead>\n  <tbody>\n    <tr>\n      <td>0</td>\n      <td>Training</td>\n      <td>99.861</td>\n      <td>99.235</td>\n      <td>99.861</td>\n    </tr>\n    <tr>\n      <td>1</td>\n      <td>Testing</td>\n      <td>99.167</td>\n      <td>98.889</td>\n      <td>96.389</td>\n    </tr>\n  </tbody>\n</table>\n</div>"
     },
     "metadata": {},
     "execution_count": 13
    }
   ],
   "source": [
    "import pandas as pd\n",
    "\n",
    "df = pd.DataFrame(labels)\n",
    "df.insert(0, \"Success rate\", ['Training', 'Testing'])\n",
    "df"
   ]
  },
  {
   "cell_type": "markdown",
   "metadata": {},
   "source": [
    "## Saving the model trained\n",
    "\n",
    "Lastly, we may save the model. In the future, should we need the model, we will not have to train again."
   ]
  },
  {
   "cell_type": "code",
   "execution_count": 14,
   "metadata": {},
   "outputs": [
    {
     "output_type": "execute_result",
     "data": {
      "text/plain": "['svm_model.joblib']"
     },
     "metadata": {},
     "execution_count": 14
    }
   ],
   "source": [
    "from joblib import dump\n",
    "file_name = 'svm_model.joblib'\n",
    "dump(models[0], file_name)"
   ]
  }
 ],
 "metadata": {
  "kernelspec": {
   "display_name": "Python 3",
   "language": "python",
   "name": "python3"
  },
  "language_info": {
   "codemirror_mode": {
    "name": "ipython",
    "version": 3
   },
   "file_extension": ".py",
   "mimetype": "text/x-python",
   "name": "python",
   "nbconvert_exporter": "python",
   "pygments_lexer": "ipython3",
   "version": "3.7.4-final"
  }
 },
 "nbformat": 4,
 "nbformat_minor": 2
}